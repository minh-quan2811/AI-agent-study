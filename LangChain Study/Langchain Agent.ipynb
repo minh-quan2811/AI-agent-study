{
 "cells": [
  {
   "cell_type": "code",
   "execution_count": null,
   "id": "7459a026",
   "metadata": {},
   "outputs": [],
   "source": [
    "from langchain.agents import initialize_agent, AgentType\n",
    "from langchain_huggingface import HuggingFaceEndpoint\n",
    "from langchain.tools import Tool\n",
    "from langchain.chat_models import ChatOllama\n",
    "from langchain_community.utilities import GoogleSerperAPIWrapper\n",
    "from dotenv import load_dotenv\n",
    "\n",
    "\n",
    "import getpass\n",
    "import os"
   ]
  },
  {
   "cell_type": "code",
   "execution_count": null,
   "id": "9808a7c1",
   "metadata": {},
   "outputs": [],
   "source": [
    "load_dotenv()\n",
    "\n",
    "os.environ[\"LANGSMITH_TRACING\"] = \"true\"\n",
    "os.environ[\"LANGSMITH_API_KEY\"] = getpass.getpass()\n",
    "\n",
    "api_key = os.getenv(\"SERPER_API_KEY\")\n",
    "os.environ[\"SERPER_API_KEY\"] = api_key"
   ]
  },
  {
   "cell_type": "markdown",
   "id": "b763f8ca",
   "metadata": {},
   "source": [
    "## Using Langchain Agent"
   ]
  },
  {
   "cell_type": "markdown",
   "id": "74dfd1b0",
   "metadata": {},
   "source": [
    "LLM: https://python.langchain.com/docs/integrations/llms/\n",
    "\n",
    "AgentType: https://github.com/langchain-ai/langchain/discussions/12888"
   ]
  },
  {
   "cell_type": "code",
   "execution_count": null,
   "id": "3686680e",
   "metadata": {},
   "outputs": [],
   "source": [
    "def multiply_numbers(x, y):\n",
    "    return x * y\n",
    "\n",
    "math_tool = Tool(\n",
    "    name=\"MultiplyNumbers\",\n",
    "    func=lambda inputs: multiply_numbers(*inputs),\n",
    "    description=\"Use this tool to multiply two numbers.\",\n",
    "    return_direct=True\n",
    ")\n",
    "\n",
    "llm = ChatOllama(model=\"llama3\")\n",
    "\n",
    "agent = initialize_agent(\n",
    "    tools=[math_tool],\n",
    "    llm=llm,\n",
    "    agent=AgentType.ZERO_SHOT_REACT_DESCRIPTION,\n",
    "    verbose=True,\n",
    "    handle_parsing_errors=True\n",
    ")\n",
    "\n",
    "response = agent.invoke(\"What is 7 multiplied by 6?\")\n",
    "print(response)"
   ]
  },
  {
   "cell_type": "code",
   "execution_count": null,
   "id": "e64640cb",
   "metadata": {},
   "outputs": [],
   "source": [
    "MODEL = \"llama3\"\n",
    "\n",
    "# Google Search Tool\n",
    "search = GoogleSerperAPIWrapper()\n",
    "\n",
    "# Initialize LLM\n",
    "llm = ChatOllama(model=MODEL)\n",
    "\n",
    "# Define the tool\n",
    "search_tool = Tool(\n",
    "    name=\"Google Search\",\n",
    "    func=search.run,\n",
    "    description=\"Use this tool when you need to search for real-time information from Google.\",\n",
    "    return_direct=True\n",
    ")\n",
    "\n",
    "# List of tools the agent can use\n",
    "tools = [search_tool]\n",
    "\n",
    "agent = initialize_agent(\n",
    "    tools=tools,                    # Get access to the tool, use tool based on descriptions\n",
    "    llm=llm,\n",
    "    agent=AgentType.ZERO_SHOT_REACT_DESCRIPTION,\n",
    "    verbose=True,\n",
    "    handle_parsing_errors=True,     # Allows the agent to retry when parsing fails\n",
    "    return_intermediate_steps=True,\n",
    "    max_iterations=3                # limit the number of iterations\n",
    ")\n",
    "\n",
    "# Example query\n",
    "response = agent.invoke(\"Is bill moyers dead yet? How old is he\")\n",
    "\n",
    "print(response)"
   ]
  }
 ],
 "metadata": {
  "kernelspec": {
   "display_name": "venv",
   "language": "python",
   "name": "python3"
  },
  "language_info": {
   "codemirror_mode": {
    "name": "ipython",
    "version": 3
   },
   "file_extension": ".py",
   "mimetype": "text/x-python",
   "name": "python",
   "nbconvert_exporter": "python",
   "pygments_lexer": "ipython3",
   "version": "3.11.9"
  }
 },
 "nbformat": 4,
 "nbformat_minor": 5
}
