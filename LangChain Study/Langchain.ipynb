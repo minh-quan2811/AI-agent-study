{
 "cells": [
  {
   "cell_type": "markdown",
   "id": "49a6295e",
   "metadata": {},
   "source": [
    "## A simple Langchain system\n",
    "Using Semantic Chunking -> Get top k -> Using cohere reranking to filter again"
   ]
  },
  {
   "cell_type": "code",
   "execution_count": 52,
   "id": "b8dd5440",
   "metadata": {},
   "outputs": [],
   "source": [
    "from langchain_experimental.text_splitter import SemanticChunker\n",
    "# from langchain_openai.embeddings import OpenAIEmbeddings\n",
    "from langchain.embeddings import HuggingFaceEmbeddings\n",
    "from langchain.vectorstores import FAISS\n",
    "\n",
    "import openai\n",
    "import cohere\n",
    "\n",
    "from dotenv import load_dotenv\n",
    "import os\n",
    "import sys\n",
    "import numpy as np\n",
    "import fitz\n",
    "import google.generativeai as genai\n"
   ]
  },
  {
   "cell_type": "code",
   "execution_count": 3,
   "id": "b6aeec69",
   "metadata": {},
   "outputs": [],
   "source": [
    "load_dotenv()\n",
    "api_key = os.getenv(\"OPENAI_API_KEY\")\n",
    "\n",
    "def read_pdf_to_string(path):\n",
    "    \"\"\"\n",
    "    Read a PDF document from the specified path and return its content as a string.\n",
    "    \"\"\"\n",
    "    # Open the PDF document located at the specified path\n",
    "    doc = fitz.open(path)\n",
    "    content = \"\"\n",
    "    # Iterate over each page in the document\n",
    "    for page_num in range(len(doc)):\n",
    "        # Get the current page\n",
    "        page = doc[page_num]\n",
    "        # Extract the text content from the current page and append it to the content string\n",
    "        content += page.get_text()\n",
    "    return content"
   ]
  },
  {
   "cell_type": "markdown",
   "id": "18f27d92",
   "metadata": {},
   "source": [
    "Text_splitter:\n",
    "https://python.langchain.com/docs/how_to/semantic-chunker/\n",
    "\n",
    "embeddings: Huggingface \n",
    "https://python.langchain.com/docs/integrations/providers/huggingface/#huggingfaceembeddings\n",
    "\n",
    "or OpenAI (money)\n",
    "https://python.langchain.com/docs/integrations/text_embedding/openai/"
   ]
  },
  {
   "cell_type": "code",
   "execution_count": null,
   "id": "4a25b740",
   "metadata": {},
   "outputs": [],
   "source": [
    "embeddings = HuggingFaceEmbeddings(model_name=\"sentence-transformers/all-MiniLM-L6-v2\")\n",
    "\n",
    "text_splitter = SemanticChunker(embeddings=embeddings, \n",
    "                                breakpoint_threshold_type='percentile',     # Determine breakpoints type\n",
    "                                breakpoint_threshold_amount=90)             # Threshold"
   ]
  },
  {
   "cell_type": "markdown",
   "id": "c390141a",
   "metadata": {},
   "source": [
    "### Split documents"
   ]
  },
  {
   "cell_type": "code",
   "execution_count": null,
   "id": "d2155ee5",
   "metadata": {},
   "outputs": [],
   "source": [
    "path = \"C:/Users/PC/Downloads/Understanding_Climate_Change.pdf\"\n",
    "content = read_pdf_to_string(path)   # Documents\n",
    "\n",
    "docs = text_splitter.create_documents([content])\n",
    "docs"
   ]
  },
  {
   "cell_type": "markdown",
   "id": "a4faa2fe",
   "metadata": {},
   "source": [
    "### Embedding + storing the documents in vector space"
   ]
  },
  {
   "cell_type": "markdown",
   "id": "20a99070",
   "metadata": {},
   "source": [
    "Vectorstore:\n",
    "https://python.langchain.com/docs/integrations/vectorstores/"
   ]
  },
  {
   "cell_type": "code",
   "execution_count": 44,
   "id": "d942e806",
   "metadata": {},
   "outputs": [],
   "source": [
    "vectorstore = FAISS.from_documents(docs, embeddings)   # Default using FAISS IndexFlatL2 (Euclidean Distance) -> Smaller mean better\n",
    "                                                       # IndexFlatIP (Inner Product) -> Larger score means better "
   ]
  },
  {
   "cell_type": "markdown",
   "id": "23d56e10",
   "metadata": {},
   "source": [
    "### Retriever and similar search"
   ]
  },
  {
   "cell_type": "code",
   "execution_count": null,
   "id": "77143f5b",
   "metadata": {},
   "outputs": [],
   "source": [
    "chunks_query_retriever = vectorstore.as_retriever(search_kwargs={\"k\": 2})  # top-k most semantically similar chunks \n",
    "\n",
    "query = \"What will happen if climate change happen?\"\n",
    "best_suit_docs = chunks_query_retriever.invoke(query)\n",
    "\n",
    "for doc in best_suit_docs:\n",
    "    print(\"Retrieved chunk:\", doc.page_content)\n"
   ]
  },
  {
   "cell_type": "code",
   "execution_count": null,
   "id": "baa27b54",
   "metadata": {},
   "outputs": [],
   "source": [
    "# Convert query to embedding\n",
    "query_embedding = embeddings.embed_query(query)\n",
    "\n",
    "# Search with FAISS, retrieving scores\n",
    "scores, indices = vectorstore.index.search(np.array([query_embedding]), k=4)    # Compare between vector store (docs embedding) and query embedding\n",
    "\n",
    "# Get the documents and their similarity scores\n",
    "retrieved_docs = [docs[i] for i in indices[0]]\n",
    "similarity_scores = scores[0]\n",
    "\n",
    "# Display results (the smaller the score the better)\n",
    "for doc, score in zip(retrieved_docs, similarity_scores):\n",
    "    print(f\"Similarity Score: {score}, Document: {doc.page_content}\\n\")"
   ]
  },
  {
   "cell_type": "code",
   "execution_count": 56,
   "id": "e325e790",
   "metadata": {},
   "outputs": [
    {
     "data": {
      "text/plain": [
       "['These effects include: \\nRising Temperatures \\nGlobal temperatures have risen by about 1.2 degrees Celsius (2.2 degrees Fahrenheit) since \\nthe late 19th century. This warming is not uniform, with some regions experiencing more \\nsignificant increases than others. Heatwaves \\nHeatwaves are becoming more frequent and severe, posing risks to human health, agriculture, \\nand infrastructure. Cities are particularly vulnerable due to the \"urban heat island\" effect. Heatwaves can lead to heat-related illnesses and exacerbate existing health conditions. Changing Seasons \\nClimate change is altering the timing and length of seasons, affecting ecosystems and human \\nactivities. For example, spring is arriving earlier, and winters are becoming shorter and \\nmilder in many regions. This shift disrupts plant and animal life cycles and agricultural \\npractices. Melting Ice and Rising Sea Levels \\nWarmer temperatures are causing polar ice caps and glaciers to melt, contributing to rising \\nsea levels. Sea levels have risen by about 20 centimeters (8 inches) in the past century, \\nthreatening coastal communities and ecosystems. Polar Ice Melt \\nThe Arctic is warming at more than twice the global average rate, leading to significant ice \\nloss. Antarctic ice sheets are also losing mass, contributing to sea level rise. This melting \\naffects global ocean currents and weather patterns. Glacial Retreat \\nGlaciers around the world are retreating, affecting water supplies for millions of people. Regions dependent on glacial meltwater, such as the Himalayas and the Andes, face \\nparticular risks. Glacial melt also impacts hydropower generation and agriculture. Coastal Erosion \\nRising sea levels and increased storm surges are accelerating coastal erosion, threatening \\nhomes, infrastructure, and ecosystems. Low-lying islands and coastal regions are especially \\nvulnerable. Coastal communities must invest in adaptation measures like sea walls and \\nmanaged retreats. Extreme Weather Events \\nClimate change is linked to an increase in the frequency and severity of extreme weather \\nevents, such as hurricanes, heatwaves, droughts, and heavy rainfall. These events can have \\ndevastating impacts on communities, economies, and ecosystems. Hurricanes and Typhoons \\nWarmer ocean temperatures can intensify hurricanes and typhoons, leading to more \\ndestructive storms. Coastal regions are at heightened risk of storm surge and flooding. Early \\nwarning systems and resilient infrastructure are critical for mitigating these risks. Droughts \\nIncreased temperatures and changing precipitation patterns are contributing to more frequent \\nand severe droughts. This affects agriculture, water supply, and ecosystems, particularly in \\narid and semi-arid regions. Droughts can lead to food and water shortages and exacerbate \\nconflicts. Flooding \\nHeavy rainfall events are becoming more common, leading to increased flooding. Urban \\nareas with poor drainage and infrastructure are particularly at risk. Flood management \\nstrategies include improved drainage systems, green infrastructure, and floodplain restoration. Ocean Acidification \\nIncreased CO2 levels in the atmosphere lead to higher concentrations of CO2 in the oceans. This causes the water to become more acidic, which can harm marine life, particularly \\norganisms with calcium carbonate shells or skeletons, such as corals and some shellfish. Coral Reefs \\nCoral reefs are highly sensitive to changes in temperature and acidity. Ocean acidification \\nand warming waters contribute to coral bleaching and mortality, threatening biodiversity and \\nfisheries. Protecting and restoring coral reefs is essential for marine conservation. Marine Ecosystems \\nAcidification affects the health and survival of various marine species, disrupting food webs \\nand ecosystems. This has implications for commercial fisheries and the livelihoods of people \\nwho depend on the ocean.',\n",
       " 'Understanding Climate Change \\nChapter 1: Introduction to Climate Change \\nClimate change refers to significant, long-term changes in the global climate. The term \\n\"global climate\" encompasses the planet\\'s overall weather patterns, including temperature, \\nprecipitation, and wind patterns, over an extended period. Over the past century, human \\nactivities, particularly the burning of fossil fuels and deforestation, have significantly \\ncontributed to climate change. Historical Context \\nThe Earth\\'s climate has changed throughout history. Over the past 650,000 years, there have \\nbeen seven cycles of glacial advance and retreat, with the abrupt end of the last ice age about \\n11,700 years ago marking the beginning of the modern climate era and human civilization. Most of these climate changes are attributed to very small variations in Earth\\'s orbit that \\nchange the amount of solar energy our planet receives. During the Holocene epoch, which \\nbegan at the end of the last ice age, human societies flourished, but the industrial era has seen \\nunprecedented changes. Modern Observations \\nModern scientific observations indicate a rapid increase in global temperatures, sea levels, \\nand extreme weather events. The Intergovernmental Panel on Climate Change (IPCC) has \\ndocumented these changes extensively. Ice core samples, tree rings, and ocean sediments \\nprovide a historical record that scientists use to understand past climate conditions and \\npredict future trends. The evidence overwhelmingly shows that recent changes are primarily \\ndriven by human activities, particularly the emission of greenhouse gases. Chapter 2: Causes of Climate Change \\nGreenhouse Gases \\nThe primary cause of recent climate change is the increase in greenhouse gases in the \\natmosphere. Greenhouse gases, such as carbon dioxide (CO2), methane (CH4), and nitrous \\noxide (N2O), trap heat from the sun, creating a \"greenhouse effect.\" This effect is essential \\nfor life on Earth, as it keeps the planet warm enough to support life. However, human \\nactivities have intensified this natural process, leading to a warmer climate. Fossil Fuels \\nBurning fossil fuels for energy releases large amounts of CO2. This includes coal, oil, and \\nnatural gas used for electricity, heating, and transportation. The industrial revolution marked \\nthe beginning of a significant increase in fossil fuel consumption, which continues to rise \\ntoday. Coal \\nCoal is the most carbon-intensive fossil fuel, and its use for electricity generation is a major \\nsource of CO2 emissions. Despite a decline in some regions, coal remains a significant \\nenergy source globally. It is mined extensively in countries like China, India, and the United \\nStates, contributing significantly to their energy supplies and CO2 footprints. Oil \\nOil is used primarily for transportation fuels, such as gasoline and diesel. The combustion of \\noil products releases significant amounts of CO2 and other pollutants, contributing to climate \\nchange and air quality issues.',\n",
       " \"Research \\ninforms evidence-based policies and interventions. Chapter 11: Education and Advocacy \\nClimate Education \\nCurriculum Development \\nIntegrating climate change into educational curricula is essential for raising awareness and \\nbuilding knowledge. Schools, colleges, and universities can incorporate climate science, \\nsustainability, and environmental ethics into their programs. Educating the next generation \\nfosters informed and engaged citizens. Teacher Training \\nProviding training and resources for educators helps them effectively teach about climate \\nchange. Professional development programs, workshops, and online courses can enhance \\nteachers' knowledge and skills.\",\n",
       " 'The deal also aims to create jobs and \\nenhance economic resilience. United States Climate Action \\nThe United States has committed to rejoining the Paris Agreement and advancing domestic \\nclimate policies. Initiatives include setting emission reduction targets, investing in renewable \\nenergy, and promoting electric vehicles.']"
      ]
     },
     "execution_count": 56,
     "metadata": {},
     "output_type": "execute_result"
    }
   ],
   "source": [
    "# In case they're not just plain text yet\n",
    "retrieved_docs = [doc.page_content if hasattr(doc, \"page_content\") else str(doc) for doc in retrieved_docs]\n",
    "retrieved_docs"
   ]
  },
  {
   "cell_type": "markdown",
   "id": "fc811f7c",
   "metadata": {},
   "source": [
    "### Cohere Rerank"
   ]
  },
  {
   "cell_type": "code",
   "execution_count": null,
   "id": "df550beb",
   "metadata": {},
   "outputs": [],
   "source": [
    "co = cohere.Client('QNDfdLA0HfCwQhl43nXc68afzP8gaPfP40ZpUj5O')\n",
    "\n",
    "response = co.rerank(\n",
    "    model=\"rerank-v3.5\",\n",
    "    query=\"What will happen if climate change happen?\",\n",
    "    documents=retrieved_docs,\n",
    "    top_n=3,\n",
    ")\n",
    "print(response)"
   ]
  },
  {
   "cell_type": "code",
   "execution_count": null,
   "id": "277c10ac",
   "metadata": {},
   "outputs": [],
   "source": [
    "for r in response.results:\n",
    "    print(f\"Rank: {r.index}, Score: {r.relevance_score:.4f}, Text: {retrieved_docs[r.index]}\")"
   ]
  },
  {
   "cell_type": "markdown",
   "id": "06b19457",
   "metadata": {},
   "source": [
    "### Use LLM to response (Optional)"
   ]
  },
  {
   "cell_type": "code",
   "execution_count": null,
   "id": "0985ce01",
   "metadata": {},
   "outputs": [],
   "source": [
    "GOOGLE_API_KEY = \"your_api_genai\"\n",
    "genai.configure(api_key=GOOGLE_API_KEY)\n",
    "model_gen = genai.GenerativeModel(\"gemini-1.5-flash\")\n",
    "\n",
    "\n",
    "prompt = # User information + query + response after Cohere Rerank\n",
    "\n",
    "response = model_gen.generate_content(prompt)"
   ]
  }
 ],
 "metadata": {
  "kernelspec": {
   "display_name": "venv",
   "language": "python",
   "name": "python3"
  },
  "language_info": {
   "codemirror_mode": {
    "name": "ipython",
    "version": 3
   },
   "file_extension": ".py",
   "mimetype": "text/x-python",
   "name": "python",
   "nbconvert_exporter": "python",
   "pygments_lexer": "ipython3",
   "version": "3.11.9"
  }
 },
 "nbformat": 4,
 "nbformat_minor": 5
}
