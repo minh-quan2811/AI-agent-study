{
 "cells": [
  {
   "cell_type": "code",
   "execution_count": null,
   "id": "6d037e36",
   "metadata": {},
   "outputs": [],
   "source": [
    "from typing import TypedDict, Annotated, List, Literal, Sequence\n",
    "import operator\n",
    "from typing_extensions import TypedDict\n",
    "from pydantic import BaseModel, Field\n",
    "\n",
    "from IPython.display import Image, display\n",
    "\n",
    "from langchain_core.prompts import SystemMessagePromptTemplate, HumanMessagePromptTemplate, MessagesPlaceholder, PromptTemplate, BasePromptTemplate\n",
    "from langchain_core.prompts import ChatPromptTemplate\n",
    "from langchain.schema import PromptValue\n",
    "from langchain_core.messages import HumanMessage, AIMessage\n",
    "from langchain_core.tools import tool\n",
    "\n",
    "from langchain.agents import AgentExecutor\n",
    "from langchain.agents import create_tool_calling_agent\n",
    "\n",
    "from langgraph.graph import MessagesState, StateGraph, START, END\n",
    "from langgraph.graph.message import add_messages\n",
    "from langsmith import traceable\n",
    "\n",
    "from langchain_community.utilities import OpenWeatherMapAPIWrapper\n",
    "from dotenv import load_dotenv\n",
    "import os\n",
    "\n",
    "from langchain_google_genai import ChatGoogleGenerativeAI"
   ]
  },
  {
   "cell_type": "markdown",
   "id": "8d8ad77f",
   "metadata": {},
   "source": [
    "project at: https://www.ionio.ai/blog/a-comprehensive-guide-about-langgraph-code-included"
   ]
  },
  {
   "cell_type": "code",
   "execution_count": null,
   "id": "e0a7e212",
   "metadata": {},
   "outputs": [],
   "source": [
    "load_dotenv()\n",
    "\n",
    "# Initialize LLM\n",
    "api_key = os.getenv(\"GOOGLE_API_KEY\")\n",
    "openweather_secret = os.getenv(\"OPENWEATHERMAP_API_KEY\")\n",
    "\n",
    "os.environ[\"OPENWEATHERMAP_API_KEY\"] = openweather_secret\n",
    "os.environ[\"GOOGLE_API_KEY\"] = api_key\n",
    "\n",
    "weather = OpenWeatherMapAPIWrapper()\n",
    "\n",
    "llm_gemini = ChatGoogleGenerativeAI(\n",
    "    model=\"gemini-2.0-flash\",\n",
    "    temperature=0,\n",
    "    max_tokens=None,\n",
    "    timeout=None,\n",
    "    max_retries=2,\n",
    ")"
   ]
  },
  {
   "cell_type": "markdown",
   "id": "516cbaf1",
   "metadata": {},
   "source": [
    "## Testing Weather Agent with LangGraph"
   ]
  },
  {
   "cell_type": "code",
   "execution_count": 4,
   "id": "aaba756e",
   "metadata": {},
   "outputs": [],
   "source": [
    "class AgentState(TypedDict):\n",
    "    messages: Annotated[Sequence[str], operator.add]\n",
    "\n",
    "# The workflow of the message (because we use it with operator.add so it will add up)\n",
    "# -> We can use normal message (but it will not have context as clear as this)\n",
    "# 0: User Query\n",
    "# 1: agent return 'no_response' or 'city_name'\n",
    "# 2: Weather detail\n",
    "\n",
    "def agent(state):\n",
    "  query = state[\"messages\"]\n",
    "  res = llm_gemini.invoke(f\"\"\"\n",
    "    You are given one question and you have to extract city name from it\n",
    "\n",
    "    Only reply the city name if it exists or reply 'no_response' if there is no city name in question\n",
    "\n",
    "    Here is the question:\n",
    "    {query[0]}\n",
    "  \"\"\")\n",
    "  return {\"messages\": [res.content]}\n",
    "\n",
    "\n",
    "def weather_tool(state):\n",
    "  context = state[\"messages\"]\n",
    "  city_name = context[1]\n",
    "  data = weather.run(city_name)\n",
    "  return {\"messages\": [data]}\n",
    "\n",
    "\n",
    "def responder(state):\n",
    "  agent = llm_gemini.invoke(f\"\"\"\n",
    "    You have given a weather information and you have to respond to user's query based on the information\n",
    "\n",
    "    Here is the user query:\n",
    "    ---\n",
    "    {state[\"messages\"][0]}\n",
    "    ---\n",
    "\n",
    "    Here is the information:\n",
    "    ---\n",
    "    {state[\"messages\"][2]}\n",
    "    ---\n",
    "  \"\"\")\n",
    "  return {\"messages\": [agent.content]}\n",
    "\n",
    "\n",
    "def where_to_go(state):\n",
    "  ctx = state[\"messages\"][1]\n",
    "  if ctx == \"no_response\":\n",
    "    return \"end\"\n",
    "  else:\n",
    "    return \"continue\""
   ]
  },
  {
   "cell_type": "code",
   "execution_count": 5,
   "id": "4f782fd6",
   "metadata": {},
   "outputs": [],
   "source": [
    "workflow = StateGraph(AgentState)\n",
    "\n",
    "workflow.add_node('agent', agent)\n",
    "workflow.add_node('weather', weather_tool)\n",
    "workflow.add_node(\"responder\", responder)\n",
    "# workflow.add_node(\"where_to_go\", where_to_go)\n",
    "\n",
    "workflow.set_entry_point(\"agent\")   # return 'no_response' or 'city_name' in the messages state\n",
    "workflow.add_conditional_edges('agent', \n",
    "                                where_to_go,      # return 'end' or 'continue' in plain text\n",
    "                                {\n",
    "                                    \"end\" : END,\n",
    "                                    \"continue\" : \"weather\"\n",
    "                                })\n",
    "workflow.add_edge('weather', \"responder\")\n",
    "workflow.add_edge(\"responder\", END)\n",
    "\n",
    "# # Create an conditional edge\n",
    "# workflow.add_conditional_edges('agent', \n",
    "#                                where_to_go,{\n",
    "#                             \"end\": END,\n",
    "#                             \"continue\": \"weather\"\n",
    "#                         })\n",
    "\n",
    "# # Remaining edges\n",
    "# workflow.add_edge(\"weather\",\"responder\")\n",
    "app = workflow.compile()\n"
   ]
  },
  {
   "cell_type": "code",
   "execution_count": 5,
   "id": "a90efbae",
   "metadata": {},
   "outputs": [
    {
     "data": {
      "image/png": "[encoded data removed]",
      "text/plain": [
       "<langgraph.graph.state.CompiledStateGraph object at 0x000001608F9CE310>"
      ]
     },
     "execution_count": 5,
     "metadata": {},
     "output_type": "execute_result"
    }
   ],
   "source": [
    "app"
   ]
  },
  {
   "cell_type": "code",
   "execution_count": 8,
   "id": "080069fb",
   "metadata": {},
   "outputs": [
    {
     "name": "stdout",
     "output_type": "stream",
     "text": [
      "The weather in Da Nang today is overcast with a temperature of 28.35°C, but it feels like 32.14°C. The wind is blowing at 4.24 m/s from a direction of 241°. Humidity is at 75% and there is 100% cloud cover.\n"
     ]
    }
   ],
   "source": [
    "inputs = {\"messages\": [\"What is the weather in Da Nang today?\"]}\n",
    "response = app.invoke(inputs)\n",
    "print(response['messages'][-1])"
   ]
  },
  {
   "cell_type": "markdown",
   "id": "53ab9470",
   "metadata": {},
   "source": [
    "## Testing conditional edges\n",
    "Link -> https://medium.com/ai-agents/langgraph-for-beginners-part-3-conditional-edges-16a3aaad9f31"
   ]
  },
  {
   "cell_type": "code",
   "execution_count": null,
   "id": "4b12eb91",
   "metadata": {},
   "outputs": [
    {
     "data": {
      "image/png": "[encoded data removed]",
      "text/plain": [
       "<langgraph.graph.state.CompiledStateGraph object at 0x0000013F0E751810>"
      ]
     },
     "execution_count": 42,
     "metadata": {},
     "output_type": "execute_result"
    }
   ],
   "source": [
    "import random\n",
    "workflow1 = StateGraph(AgentState)\n",
    "\n",
    "# Define a starting node. This node just returns a predefined string.\n",
    "def weather(str):\n",
    "  return \"Hi! Well.. I have no idea... But... \"\n",
    "\n",
    "def rainy_weather(str):\n",
    "  return str + \" Its going to rain today. Carry an umbrella.\"\n",
    "\n",
    "def sunny_weather(str):\n",
    "  return str + \" Its going to be sunny today. Wear sunscreen.\"\n",
    "\n",
    "def forecast_weather(str)->Literal[\"rainy\", \"sunny\"]:\n",
    "  if random.random() < 0.5:\n",
    "    return \"rainy\"\n",
    "  else:\n",
    "    return \"sunny\"\n",
    "  \n",
    "\n",
    "workflow1.add_node(\"weather\", weather)\n",
    "workflow1.add_node(\"rainy\", rainy_weather)\n",
    "workflow1.add_node(\"sunny\", sunny_weather)\n",
    "\n",
    "workflow1.add_edge(START, \"weather\")\n",
    "workflow1.add_conditional_edges(\"weather\", \n",
    "                                forecast_weather,\n",
    "                                {\n",
    "                                    \"rainy\": \"rainy\",\n",
    "                                    \"sunny\": \"sunny\"\n",
    "                                })\n",
    "workflow1.add_edge(\"rainy\", END)\n",
    "workflow1.add_edge(\"sunny\", END)\n",
    "\n",
    "app = workflow1.compile()"
   ]
  },
  {
   "cell_type": "code",
   "execution_count": null,
   "id": "059bd882",
   "metadata": {},
   "outputs": [],
   "source": [
    "app.invoke()"
   ]
  },
  {
   "cell_type": "markdown",
   "id": "87b1eeda",
   "metadata": {},
   "source": [
    "## Creating agent in a Node"
   ]
  },
  {
   "cell_type": "code",
   "execution_count": 8,
   "id": "b670dc53",
   "metadata": {},
   "outputs": [
    {
     "name": "stdout",
     "output_type": "stream",
     "text": [
      "Capitalizing text: hello world\n",
      "HELLO WORLD\n"
     ]
    }
   ],
   "source": [
    "from langgraph.prebuilt import create_react_agent\n",
    "from langgraph.graph import END, StateGraph\n",
    "\n",
    "class State(TypedDict):\n",
    "    messages: Annotated[list, add_messages]\n",
    "\n",
    "@tool\n",
    "def capitalize(text: str) -> str:\n",
    "    \"\"\"Capitalize the text.\"\"\"\n",
    "    print(f\"Capitalizing text: {text}\")\n",
    "    return text.upper()\n",
    "\n",
    "tools = [capitalize]\n",
    "\n",
    "\n",
    "agent_node = create_react_agent(llm_gemini, tools)\n",
    "\n",
    "graph = StateGraph(State)\n",
    "graph.add_node(\"react_agent\", agent_node)\n",
    "graph.set_entry_point(\"react_agent\")\n",
    "graph.add_edge(\"react_agent\", END)\n",
    "\n",
    "agent_executor = graph.compile()\n",
    "\n",
    "response = agent_executor.invoke({\"messages\": [{\"role\": \"user\", \"content\": \"can you capitalize this text: hello world\"}]})\n",
    "print(response[\"messages\"][-1].content)"
   ]
  }
 ],
 "metadata": {
  "kernelspec": {
   "display_name": "venv",
   "language": "python",
   "name": "python3"
  },
  "language_info": {
   "codemirror_mode": {
    "name": "ipython",
    "version": 3
   },
   "file_extension": ".py",
   "mimetype": "text/x-python",
   "name": "python",
   "nbconvert_exporter": "python",
   "pygments_lexer": "ipython3",
   "version": "3.13.3"
  }
 },
 "nbformat": 4,
 "nbformat_minor": 5
}
